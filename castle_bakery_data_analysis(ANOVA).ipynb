{
 "cells": [
  {
   "cell_type": "code",
   "execution_count": 1,
   "metadata": {},
   "outputs": [],
   "source": [
    "import pandas as pd\n",
    "import numpy as np\n",
    "from matplotlib import pyplot as plt\n",
    "import scipy.stats as stats\n",
    "import statsmodels.api as sm\n",
    "from statsmodels.formula.api import ols"
   ]
  },
  {
   "cell_type": "code",
   "execution_count": 2,
   "metadata": {},
   "outputs": [
    {
     "data": {
      "text/html": [
       "<div>\n",
       "<style scoped>\n",
       "    .dataframe tbody tr th:only-of-type {\n",
       "        vertical-align: middle;\n",
       "    }\n",
       "\n",
       "    .dataframe tbody tr th {\n",
       "        vertical-align: top;\n",
       "    }\n",
       "\n",
       "    .dataframe thead th {\n",
       "        text-align: right;\n",
       "    }\n",
       "</style>\n",
       "<table border=\"1\" class=\"dataframe\">\n",
       "  <thead>\n",
       "    <tr style=\"text-align: right;\">\n",
       "      <th></th>\n",
       "      <th>Height</th>\n",
       "      <th>Width</th>\n",
       "      <th>sales</th>\n",
       "    </tr>\n",
       "  </thead>\n",
       "  <tbody>\n",
       "    <tr>\n",
       "      <th>0</th>\n",
       "      <td>Bottom</td>\n",
       "      <td>Regular</td>\n",
       "      <td>47</td>\n",
       "    </tr>\n",
       "    <tr>\n",
       "      <th>1</th>\n",
       "      <td>Bottom</td>\n",
       "      <td>Regular</td>\n",
       "      <td>43</td>\n",
       "    </tr>\n",
       "    <tr>\n",
       "      <th>2</th>\n",
       "      <td>Bottom</td>\n",
       "      <td>Wide</td>\n",
       "      <td>46</td>\n",
       "    </tr>\n",
       "    <tr>\n",
       "      <th>3</th>\n",
       "      <td>Bottom</td>\n",
       "      <td>Wide</td>\n",
       "      <td>40</td>\n",
       "    </tr>\n",
       "    <tr>\n",
       "      <th>4</th>\n",
       "      <td>Middle</td>\n",
       "      <td>Regular</td>\n",
       "      <td>62</td>\n",
       "    </tr>\n",
       "    <tr>\n",
       "      <th>5</th>\n",
       "      <td>Middle</td>\n",
       "      <td>Regular</td>\n",
       "      <td>68</td>\n",
       "    </tr>\n",
       "    <tr>\n",
       "      <th>6</th>\n",
       "      <td>Middle</td>\n",
       "      <td>Wide</td>\n",
       "      <td>67</td>\n",
       "    </tr>\n",
       "    <tr>\n",
       "      <th>7</th>\n",
       "      <td>Middle</td>\n",
       "      <td>Wide</td>\n",
       "      <td>71</td>\n",
       "    </tr>\n",
       "    <tr>\n",
       "      <th>8</th>\n",
       "      <td>Top</td>\n",
       "      <td>Regular</td>\n",
       "      <td>41</td>\n",
       "    </tr>\n",
       "    <tr>\n",
       "      <th>9</th>\n",
       "      <td>Top</td>\n",
       "      <td>Regular</td>\n",
       "      <td>39</td>\n",
       "    </tr>\n",
       "    <tr>\n",
       "      <th>10</th>\n",
       "      <td>Top</td>\n",
       "      <td>Wide</td>\n",
       "      <td>42</td>\n",
       "    </tr>\n",
       "    <tr>\n",
       "      <th>11</th>\n",
       "      <td>Top</td>\n",
       "      <td>Wide</td>\n",
       "      <td>46</td>\n",
       "    </tr>\n",
       "  </tbody>\n",
       "</table>\n",
       "</div>"
      ],
      "text/plain": [
       "    Height    Width  sales\n",
       "0   Bottom  Regular     47\n",
       "1   Bottom  Regular     43\n",
       "2   Bottom     Wide     46\n",
       "3   Bottom     Wide     40\n",
       "4   Middle  Regular     62\n",
       "5   Middle  Regular     68\n",
       "6   Middle     Wide     67\n",
       "7   Middle     Wide     71\n",
       "8      Top  Regular     41\n",
       "9      Top  Regular     39\n",
       "10     Top     Wide     42\n",
       "11     Top     Wide     46"
      ]
     },
     "execution_count": 2,
     "metadata": {},
     "output_type": "execute_result"
    }
   ],
   "source": [
    "data = pd.DataFrame({'Height':['Bottom','Bottom','Bottom','Bottom','Middle','Middle','Middle','Middle','Top','Top','Top','Top'],\n",
    "                             'Width':['Regular','Regular','Wide','Wide','Regular','Regular','Wide','Wide','Regular','Regular','Wide','Wide'],\n",
    "                           'sales':[47,43,46,40,62,68,67,71,41,39,42,46]})\n",
    "data"
   ]
  },
  {
   "cell_type": "code",
   "execution_count": 3,
   "metadata": {},
   "outputs": [
    {
     "data": {
      "text/html": [
       "<div>\n",
       "<style scoped>\n",
       "    .dataframe tbody tr th:only-of-type {\n",
       "        vertical-align: middle;\n",
       "    }\n",
       "\n",
       "    .dataframe tbody tr th {\n",
       "        vertical-align: top;\n",
       "    }\n",
       "\n",
       "    .dataframe thead th {\n",
       "        text-align: right;\n",
       "    }\n",
       "</style>\n",
       "<table border=\"1\" class=\"dataframe\">\n",
       "  <thead>\n",
       "    <tr style=\"text-align: right;\">\n",
       "      <th>Width</th>\n",
       "      <th>Regular</th>\n",
       "      <th>Wide</th>\n",
       "    </tr>\n",
       "    <tr>\n",
       "      <th>Height</th>\n",
       "      <th></th>\n",
       "      <th></th>\n",
       "    </tr>\n",
       "  </thead>\n",
       "  <tbody>\n",
       "    <tr>\n",
       "      <th>Bottom</th>\n",
       "      <td>45</td>\n",
       "      <td>43</td>\n",
       "    </tr>\n",
       "    <tr>\n",
       "      <th>Middle</th>\n",
       "      <td>65</td>\n",
       "      <td>69</td>\n",
       "    </tr>\n",
       "    <tr>\n",
       "      <th>Top</th>\n",
       "      <td>40</td>\n",
       "      <td>44</td>\n",
       "    </tr>\n",
       "  </tbody>\n",
       "</table>\n",
       "</div>"
      ],
      "text/plain": [
       "Width   Regular  Wide\n",
       "Height               \n",
       "Bottom       45    43\n",
       "Middle       65    69\n",
       "Top          40    44"
      ]
     },
     "execution_count": 3,
     "metadata": {},
     "output_type": "execute_result"
    }
   ],
   "source": [
    "bakery_data=data.groupby(['Height','Width']).sales.mean().reset_index().pivot(columns='Width',index='Height',values='sales')\n",
    "bakery_data"
   ]
  },
  {
   "cell_type": "code",
   "execution_count": 4,
   "metadata": {},
   "outputs": [
    {
     "data": {
      "text/plain": [
       "<matplotlib.axes._subplots.AxesSubplot at 0x472e89f748>"
      ]
     },
     "execution_count": 4,
     "metadata": {},
     "output_type": "execute_result"
    },
    {
     "data": {
      "image/png": "[encoded data removed]",
      "text/plain": [
       "<Figure size 432x288 with 1 Axes>"
      ]
     },
     "metadata": {
      "needs_background": "light"
     },
     "output_type": "display_data"
    }
   ],
   "source": [
    "bakery_data.plot()"
   ]
  },
  {
   "cell_type": "code",
   "execution_count": 5,
   "metadata": {},
   "outputs": [
    {
     "data": {
      "text/plain": [
       "<matplotlib.axes._subplots.AxesSubplot at 0x472ec75518>"
      ]
     },
     "execution_count": 5,
     "metadata": {},
     "output_type": "execute_result"
    },
    {
     "data": {
      "image/png": "[encoded data removed]",
      "text/plain": [
       "<Figure size 432x288 with 1 Axes>"
      ]
     },
     "metadata": {
      "needs_background": "light"
     },
     "output_type": "display_data"
    }
   ],
   "source": [
    "bakery_data.T.plot()"
   ]
  },
  {
   "cell_type": "code",
   "execution_count": 6,
   "metadata": {},
   "outputs": [
    {
     "data": {
      "text/plain": [
       "<matplotlib.axes._subplots.AxesSubplot at 0x472eceb588>"
      ]
     },
     "execution_count": 6,
     "metadata": {},
     "output_type": "execute_result"
    },
    {
     "data": {
      "image/png": "[encoded data removed]",
      "text/plain": [
       "<Figure size 432x288 with 1 Axes>"
      ]
     },
     "metadata": {
      "needs_background": "light"
     },
     "output_type": "display_data"
    }
   ],
   "source": [
    "bakery_data.plot()"
   ]
  },
  {
   "cell_type": "code",
   "execution_count": 7,
   "metadata": {},
   "outputs": [
    {
     "data": {
      "text/html": [
       "<div>\n",
       "<style scoped>\n",
       "    .dataframe tbody tr th:only-of-type {\n",
       "        vertical-align: middle;\n",
       "    }\n",
       "\n",
       "    .dataframe tbody tr th {\n",
       "        vertical-align: top;\n",
       "    }\n",
       "\n",
       "    .dataframe thead th {\n",
       "        text-align: right;\n",
       "    }\n",
       "</style>\n",
       "<table border=\"1\" class=\"dataframe\">\n",
       "  <thead>\n",
       "    <tr style=\"text-align: right;\">\n",
       "      <th></th>\n",
       "      <th>sales</th>\n",
       "    </tr>\n",
       "    <tr>\n",
       "      <th>Height</th>\n",
       "      <th></th>\n",
       "    </tr>\n",
       "  </thead>\n",
       "  <tbody>\n",
       "    <tr>\n",
       "      <th>Bottom</th>\n",
       "      <td>-7</td>\n",
       "    </tr>\n",
       "    <tr>\n",
       "      <th>Middle</th>\n",
       "      <td>16</td>\n",
       "    </tr>\n",
       "    <tr>\n",
       "      <th>Top</th>\n",
       "      <td>-9</td>\n",
       "    </tr>\n",
       "  </tbody>\n",
       "</table>\n",
       "</div>"
      ],
      "text/plain": [
       "        sales\n",
       "Height       \n",
       "Bottom     -7\n",
       "Middle     16\n",
       "Top        -9"
      ]
     },
     "execution_count": 7,
     "metadata": {},
     "output_type": "execute_result"
    }
   ],
   "source": [
    "common_mean = 51\n",
    "height_effect = data.groupby('Height').sales.mean() - common_mean\n",
    "height_effect = height_effect.to_frame()\n",
    "height_effect"
   ]
  },
  {
   "cell_type": "code",
   "execution_count": 8,
   "metadata": {},
   "outputs": [
    {
     "data": {
      "text/html": [
       "<div>\n",
       "<style scoped>\n",
       "    .dataframe tbody tr th:only-of-type {\n",
       "        vertical-align: middle;\n",
       "    }\n",
       "\n",
       "    .dataframe tbody tr th {\n",
       "        vertical-align: top;\n",
       "    }\n",
       "\n",
       "    .dataframe thead th {\n",
       "        text-align: right;\n",
       "    }\n",
       "</style>\n",
       "<table border=\"1\" class=\"dataframe\">\n",
       "  <thead>\n",
       "    <tr style=\"text-align: right;\">\n",
       "      <th></th>\n",
       "      <th>sales</th>\n",
       "    </tr>\n",
       "    <tr>\n",
       "      <th>Width</th>\n",
       "      <th></th>\n",
       "    </tr>\n",
       "  </thead>\n",
       "  <tbody>\n",
       "    <tr>\n",
       "      <th>Regular</th>\n",
       "      <td>-1</td>\n",
       "    </tr>\n",
       "    <tr>\n",
       "      <th>Wide</th>\n",
       "      <td>1</td>\n",
       "    </tr>\n",
       "  </tbody>\n",
       "</table>\n",
       "</div>"
      ],
      "text/plain": [
       "         sales\n",
       "Width         \n",
       "Regular     -1\n",
       "Wide         1"
      ]
     },
     "execution_count": 8,
     "metadata": {},
     "output_type": "execute_result"
    }
   ],
   "source": [
    "width_effect = data.groupby('Width').sales.mean() - common_mean\n",
    "width_effect = width_effect.to_frame()\n",
    "width_effect"
   ]
  },
  {
   "cell_type": "code",
   "execution_count": 9,
   "metadata": {
    "scrolled": true
   },
   "outputs": [
    {
     "data": {
      "text/html": [
       "<div>\n",
       "<style scoped>\n",
       "    .dataframe tbody tr th:only-of-type {\n",
       "        vertical-align: middle;\n",
       "    }\n",
       "\n",
       "    .dataframe tbody tr th {\n",
       "        vertical-align: top;\n",
       "    }\n",
       "\n",
       "    .dataframe thead th {\n",
       "        text-align: right;\n",
       "    }\n",
       "</style>\n",
       "<table border=\"1\" class=\"dataframe\">\n",
       "  <thead>\n",
       "    <tr style=\"text-align: right;\">\n",
       "      <th>Width</th>\n",
       "      <th>Regular</th>\n",
       "      <th>Wide</th>\n",
       "    </tr>\n",
       "    <tr>\n",
       "      <th>Height</th>\n",
       "      <th></th>\n",
       "      <th></th>\n",
       "    </tr>\n",
       "  </thead>\n",
       "  <tbody>\n",
       "    <tr>\n",
       "      <th>Bottom</th>\n",
       "      <td>2</td>\n",
       "      <td>-2</td>\n",
       "    </tr>\n",
       "    <tr>\n",
       "      <th>Middle</th>\n",
       "      <td>-1</td>\n",
       "      <td>1</td>\n",
       "    </tr>\n",
       "    <tr>\n",
       "      <th>Top</th>\n",
       "      <td>-1</td>\n",
       "      <td>1</td>\n",
       "    </tr>\n",
       "  </tbody>\n",
       "</table>\n",
       "</div>"
      ],
      "text/plain": [
       "Width   Regular  Wide\n",
       "Height               \n",
       "Bottom        2    -2\n",
       "Middle       -1     1\n",
       "Top          -1     1"
      ]
     },
     "execution_count": 9,
     "metadata": {},
     "output_type": "execute_result"
    }
   ],
   "source": [
    "interaction_effect = bakery_data - (common_mean + height_effect.T.values + width_effect.values).T\n",
    "interaction_effect"
   ]
  },
  {
   "cell_type": "code",
   "execution_count": 10,
   "metadata": {},
   "outputs": [
    {
     "name": "stdout",
     "output_type": "stream",
     "text": [
      "residual effect MS : 10.3\n"
     ]
    }
   ],
   "source": [
    "residual_effect = data.sales - (common_mean + height_effect.T.values + width_effect.values + interaction_effect.T.values).T.ravel().repeat(2)\n",
    "residual_effect_sqr = residual_effect ** 2\n",
    "residual_effect_sqr_sum = residual_effect_sqr.sum() \n",
    "residual_effect_df = 6\n",
    "residual_effect_MS = residual_effect_sqr_sum / residual_effect_df\n",
    "print('residual effect MS : {:.1f}'.format(residual_effect_MS))\n"
   ]
  },
  {
   "cell_type": "code",
   "execution_count": 11,
   "metadata": {},
   "outputs": [
    {
     "name": "stdout",
     "output_type": "stream",
     "text": [
      "common Fratio : 3020.52\n"
     ]
    }
   ],
   "source": [
    "common_mean_sqr = common_mean ** 2\n",
    "common_mean_sqr_sum = common_mean_sqr * len(data)\n",
    "common_mean_sqr_sum\n",
    "common_mean_df = 1\n",
    "common_mean_MS = common_mean_sqr_sum / common_mean_df\n",
    "common_mean_F_ratio = common_mean_MS / residual_effect_MS\n",
    "print('common Fratio : {:.2f}'.format(common_mean_F_ratio))"
   ]
  },
  {
   "cell_type": "code",
   "execution_count": 12,
   "metadata": {},
   "outputs": [
    {
     "name": "stdout",
     "output_type": "stream",
     "text": [
      "Height p-value : 0.0001\n"
     ]
    }
   ],
   "source": [
    "height_effect_sqr = height_effect.values.repeat(4) ** 2\n",
    "height_effect_sqr_sum = height_effect_sqr.sum()\n",
    "height_effect_df = 2\n",
    "height_effect_MS = height_effect_sqr_sum / height_effect_df\n",
    "height_effect_F_ratio = height_effect_MS / residual_effect_MS\n",
    "height_pvalue = stats.f.sf(height_effect_F_ratio,height_effect_df,residual_effect_df)\n",
    "print('Height p-value : {:.4f}'.format(height_pvalue))"
   ]
  },
  {
   "cell_type": "code",
   "execution_count": 13,
   "metadata": {},
   "outputs": [
    {
     "name": "stdout",
     "output_type": "stream",
     "text": [
      "width p-value : 0.3226\n"
     ]
    }
   ],
   "source": [
    "width_effect_sqr = width_effect.values.repeat(6) ** 2\n",
    "width_effect_sqr_sum = width_effect_sqr.sum()\n",
    "width_effect_df = 1\n",
    "width_effect_MS = width_effect_sqr_sum / width_effect_df\n",
    "width_effect_F_ratio = width_effect_MS / residual_effect_MS\n",
    "width_pvalue = stats.f.sf(width_effect_F_ratio,width_effect_df,residual_effect_df)\n",
    "print('width p-value : {:.4f}'.format(width_pvalue))"
   ]
  },
  {
   "cell_type": "code",
   "execution_count": 14,
   "metadata": {},
   "outputs": [
    {
     "name": "stdout",
     "output_type": "stream",
     "text": [
      "width p-value : 0.3747\n"
     ]
    }
   ],
   "source": [
    "interaction_effect_sqr = interaction_effect.values.repeat(2) ** 2\n",
    "interaction_effect_sqr_sum = interaction_effect_sqr.sum()\n",
    "interaction_effect_df = 2\n",
    "interaction_effect_MS = interaction_effect_sqr_sum / interaction_effect_df\n",
    "interaction_effect_F_ratio = interaction_effect_MS / residual_effect_MS\n",
    "interaction_pvalue = stats.f.sf(interaction_effect_F_ratio,interaction_effect_df,residual_effect_df)\n",
    "print('width p-value : {:.4f}'.format(interaction_pvalue))"
   ]
  },
  {
   "cell_type": "code",
   "execution_count": 15,
   "metadata": {},
   "outputs": [
    {
     "data": {
      "text/html": [
       "<div>\n",
       "<style scoped>\n",
       "    .dataframe tbody tr th:only-of-type {\n",
       "        vertical-align: middle;\n",
       "    }\n",
       "\n",
       "    .dataframe tbody tr th {\n",
       "        vertical-align: top;\n",
       "    }\n",
       "\n",
       "    .dataframe thead th {\n",
       "        text-align: right;\n",
       "    }\n",
       "</style>\n",
       "<table border=\"1\" class=\"dataframe\">\n",
       "  <thead>\n",
       "    <tr style=\"text-align: right;\">\n",
       "      <th></th>\n",
       "      <th></th>\n",
       "      <th>count</th>\n",
       "      <th>mean</th>\n",
       "      <th>std</th>\n",
       "      <th>min</th>\n",
       "      <th>25%</th>\n",
       "      <th>50%</th>\n",
       "      <th>75%</th>\n",
       "      <th>max</th>\n",
       "    </tr>\n",
       "    <tr>\n",
       "      <th>Height</th>\n",
       "      <th>Width</th>\n",
       "      <th></th>\n",
       "      <th></th>\n",
       "      <th></th>\n",
       "      <th></th>\n",
       "      <th></th>\n",
       "      <th></th>\n",
       "      <th></th>\n",
       "      <th></th>\n",
       "    </tr>\n",
       "  </thead>\n",
       "  <tbody>\n",
       "    <tr>\n",
       "      <th rowspan=\"2\" valign=\"top\">Bottom</th>\n",
       "      <th>Regular</th>\n",
       "      <td>2.0</td>\n",
       "      <td>45.0</td>\n",
       "      <td>2.828427</td>\n",
       "      <td>43.0</td>\n",
       "      <td>44.0</td>\n",
       "      <td>45.0</td>\n",
       "      <td>46.0</td>\n",
       "      <td>47.0</td>\n",
       "    </tr>\n",
       "    <tr>\n",
       "      <th>Wide</th>\n",
       "      <td>2.0</td>\n",
       "      <td>43.0</td>\n",
       "      <td>4.242641</td>\n",
       "      <td>40.0</td>\n",
       "      <td>41.5</td>\n",
       "      <td>43.0</td>\n",
       "      <td>44.5</td>\n",
       "      <td>46.0</td>\n",
       "    </tr>\n",
       "    <tr>\n",
       "      <th rowspan=\"2\" valign=\"top\">Middle</th>\n",
       "      <th>Regular</th>\n",
       "      <td>2.0</td>\n",
       "      <td>65.0</td>\n",
       "      <td>4.242641</td>\n",
       "      <td>62.0</td>\n",
       "      <td>63.5</td>\n",
       "      <td>65.0</td>\n",
       "      <td>66.5</td>\n",
       "      <td>68.0</td>\n",
       "    </tr>\n",
       "    <tr>\n",
       "      <th>Wide</th>\n",
       "      <td>2.0</td>\n",
       "      <td>69.0</td>\n",
       "      <td>2.828427</td>\n",
       "      <td>67.0</td>\n",
       "      <td>68.0</td>\n",
       "      <td>69.0</td>\n",
       "      <td>70.0</td>\n",
       "      <td>71.0</td>\n",
       "    </tr>\n",
       "    <tr>\n",
       "      <th rowspan=\"2\" valign=\"top\">Top</th>\n",
       "      <th>Regular</th>\n",
       "      <td>2.0</td>\n",
       "      <td>40.0</td>\n",
       "      <td>1.414214</td>\n",
       "      <td>39.0</td>\n",
       "      <td>39.5</td>\n",
       "      <td>40.0</td>\n",
       "      <td>40.5</td>\n",
       "      <td>41.0</td>\n",
       "    </tr>\n",
       "    <tr>\n",
       "      <th>Wide</th>\n",
       "      <td>2.0</td>\n",
       "      <td>44.0</td>\n",
       "      <td>2.828427</td>\n",
       "      <td>42.0</td>\n",
       "      <td>43.0</td>\n",
       "      <td>44.0</td>\n",
       "      <td>45.0</td>\n",
       "      <td>46.0</td>\n",
       "    </tr>\n",
       "  </tbody>\n",
       "</table>\n",
       "</div>"
      ],
      "text/plain": [
       "                count  mean       std   min   25%   50%   75%   max\n",
       "Height Width                                                       \n",
       "Bottom Regular    2.0  45.0  2.828427  43.0  44.0  45.0  46.0  47.0\n",
       "       Wide       2.0  43.0  4.242641  40.0  41.5  43.0  44.5  46.0\n",
       "Middle Regular    2.0  65.0  4.242641  62.0  63.5  65.0  66.5  68.0\n",
       "       Wide       2.0  69.0  2.828427  67.0  68.0  69.0  70.0  71.0\n",
       "Top    Regular    2.0  40.0  1.414214  39.0  39.5  40.0  40.5  41.0\n",
       "       Wide       2.0  44.0  2.828427  42.0  43.0  44.0  45.0  46.0"
      ]
     },
     "execution_count": 15,
     "metadata": {},
     "output_type": "execute_result"
    }
   ],
   "source": [
    "data.groupby(['Height','Width']).sales.describe()"
   ]
  },
  {
   "cell_type": "code",
   "execution_count": 16,
   "metadata": {},
   "outputs": [
    {
     "data": {
      "text/html": [
       "<div>\n",
       "<style scoped>\n",
       "    .dataframe tbody tr th:only-of-type {\n",
       "        vertical-align: middle;\n",
       "    }\n",
       "\n",
       "    .dataframe tbody tr th {\n",
       "        vertical-align: top;\n",
       "    }\n",
       "\n",
       "    .dataframe thead th {\n",
       "        text-align: right;\n",
       "    }\n",
       "</style>\n",
       "<table border=\"1\" class=\"dataframe\">\n",
       "  <thead>\n",
       "    <tr style=\"text-align: right;\">\n",
       "      <th></th>\n",
       "      <th>df</th>\n",
       "      <th>sum_sq</th>\n",
       "      <th>mean_sq</th>\n",
       "      <th>F</th>\n",
       "      <th>PR(&gt;F)</th>\n",
       "    </tr>\n",
       "  </thead>\n",
       "  <tbody>\n",
       "    <tr>\n",
       "      <th>Height</th>\n",
       "      <td>2.0</td>\n",
       "      <td>1544.0</td>\n",
       "      <td>772.000000</td>\n",
       "      <td>74.709677</td>\n",
       "      <td>0.000058</td>\n",
       "    </tr>\n",
       "    <tr>\n",
       "      <th>Width</th>\n",
       "      <td>1.0</td>\n",
       "      <td>12.0</td>\n",
       "      <td>12.000000</td>\n",
       "      <td>1.161290</td>\n",
       "      <td>0.322605</td>\n",
       "    </tr>\n",
       "    <tr>\n",
       "      <th>Height:Width</th>\n",
       "      <td>2.0</td>\n",
       "      <td>24.0</td>\n",
       "      <td>12.000000</td>\n",
       "      <td>1.161290</td>\n",
       "      <td>0.374697</td>\n",
       "    </tr>\n",
       "    <tr>\n",
       "      <th>Residual</th>\n",
       "      <td>6.0</td>\n",
       "      <td>62.0</td>\n",
       "      <td>10.333333</td>\n",
       "      <td>NaN</td>\n",
       "      <td>NaN</td>\n",
       "    </tr>\n",
       "  </tbody>\n",
       "</table>\n",
       "</div>"
      ],
      "text/plain": [
       "               df  sum_sq     mean_sq          F    PR(>F)\n",
       "Height        2.0  1544.0  772.000000  74.709677  0.000058\n",
       "Width         1.0    12.0   12.000000   1.161290  0.322605\n",
       "Height:Width  2.0    24.0   12.000000   1.161290  0.374697\n",
       "Residual      6.0    62.0   10.333333        NaN       NaN"
      ]
     },
     "execution_count": 16,
     "metadata": {},
     "output_type": "execute_result"
    }
   ],
   "source": [
    "model = ols('sales ~ Height + Width + Height:Width', data=data).fit()\n",
    "anova_table = sm.stats.anova_lm(model, typ=1)\n",
    "anova_table"
   ]
  }
 ],
 "metadata": {
  "kernelspec": {
   "display_name": "Python 3",
   "language": "python",
   "name": "python3"
  },
  "language_info": {
   "codemirror_mode": {
    "name": "ipython",
    "version": 3
   },
   "file_extension": ".py",
   "mimetype": "text/x-python",
   "name": "python",
   "nbconvert_exporter": "python",
   "pygments_lexer": "ipython3",
   "version": "3.7.3"
  }
 },
 "nbformat": 4,
 "nbformat_minor": 2
}
